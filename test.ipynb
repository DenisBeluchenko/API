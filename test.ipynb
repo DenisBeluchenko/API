{
  "nbformat": 4,
  "nbformat_minor": 0,
  "metadata": {
    "colab": {
      "provenance": [],
      "mount_file_id": "18bkN6sao70B1JqhpRmTFILigBviMh99w",
      "authorship_tag": "ABX9TyPW6OaO6lUPfgmJVBusrRyV",
      "include_colab_link": true
    },
    "kernelspec": {
      "name": "python3",
      "display_name": "Python 3"
    },
    "language_info": {
      "name": "python"
    }
  },
  "cells": [
    {
      "cell_type": "markdown",
      "metadata": {
        "id": "view-in-github",
        "colab_type": "text"
      },
      "source": [
        "<a href=\"https://colab.research.google.com/github/DenisBeluchenko/API/blob/master/test.ipynb\" target=\"_parent\"><img src=\"https://colab.research.google.com/assets/colab-badge.svg\" alt=\"Open In Colab\"/></a>"
      ]
    },
    {
      "cell_type": "code",
      "source": [
        "import time\n",
        "def log(text):\n",
        "    print('[%s] %s' % (time.strftime('%H:%M:%S'), text))"
      ],
      "metadata": {
        "id": "By7rgeSnBawF"
      },
      "execution_count": null,
      "outputs": []
    },
    {
      "cell_type": "code",
      "source": [],
      "metadata": {
        "id": "nv4n5kErB8Ik"
      },
      "execution_count": null,
      "outputs": []
    }
  ]
}